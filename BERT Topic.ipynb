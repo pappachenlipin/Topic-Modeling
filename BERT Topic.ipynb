{
 "cells": [
  {
   "cell_type": "code",
   "execution_count": 12,
   "id": "deea0638-0c64-4735-812d-683457348ea6",
   "metadata": {},
   "outputs": [],
   "source": [
    "# Using BertTopic for topic modeling\n",
    "import pandas as pd\n",
    "import os\n",
    "from umap import UMAP\n",
    "from hdbscan import HDBSCAN\n",
    "from sentence_transformers import SentenceTransformer\n",
    "from sklearn.feature_extraction.text import CountVectorizer\n",
    "\n",
    "from bertopic import BERTopic\n",
    "from bertopic.representation import KeyBERTInspired\n",
    "from bertopic.vectorizers import ClassTfidfTransformer\n"
   ]
  },
  {
   "cell_type": "code",
   "execution_count": 2,
   "id": "aca7fb4f-9060-4fc8-9595-fce0cebfc626",
   "metadata": {},
   "outputs": [],
   "source": [
    "from sklearn.datasets import fetch_20newsgroups"
   ]
  },
  {
   "cell_type": "code",
   "execution_count": 8,
   "id": "f2eceea9-6c0f-4871-abb0-575d77e30a95",
   "metadata": {},
   "outputs": [],
   "source": [
    "df = fetch_20newsgroups(subset='all',  \n",
    "                             shuffle=False, remove=('headers', 'footers', 'quotes'))"
   ]
  },
  {
   "cell_type": "markdown",
   "id": "f94e4f2e-7e2f-4b01-8628-375b53d2e301",
   "metadata": {},
   "source": [
    "<h2> Apply the BERT Topic Model with default Parameters </h2>"
   ]
  },
  {
   "cell_type": "code",
   "execution_count": 16,
   "id": "89fa94d4-62c7-4846-be6a-b7fdfe545db3",
   "metadata": {},
   "outputs": [],
   "source": [
    "topic_model = BERTopic()"
   ]
  },
  {
   "cell_type": "code",
   "execution_count": 18,
   "id": "3a323e8c-8468-4e8e-8cdc-9b8a76af2439",
   "metadata": {},
   "outputs": [],
   "source": [
    "topics, probs = topic_model.fit_transform(df['data'])"
   ]
  },
  {
   "cell_type": "code",
   "execution_count": 20,
   "id": "aba5eae8-3d6c-4eb2-bf32-54ca00e7a233",
   "metadata": {},
   "outputs": [
    {
     "data": {
      "text/plain": [
       "[('game', 0.010474642339263639),\n",
       " ('team', 0.009115333048998012),\n",
       " ('games', 0.007258182019625589),\n",
       " ('he', 0.007153846122913083),\n",
       " ('players', 0.00638202023585328),\n",
       " ('season', 0.0062998866888781735),\n",
       " ('hockey', 0.00614911538257575),\n",
       " ('play', 0.005835085098680811),\n",
       " ('25', 0.005707349759313482),\n",
       " ('year', 0.0056932956350379425)]"
      ]
     },
     "execution_count": 20,
     "metadata": {},
     "output_type": "execute_result"
    }
   ],
   "source": [
    "topic_model.get_topic(0)"
   ]
  },
  {
   "cell_type": "code",
   "execution_count": 24,
   "id": "dcbc7f36-569c-4cc2-af1b-33a6b5a91bc2",
   "metadata": {},
   "outputs": [],
   "source": [
    "topics_info = topic_model.get_topic_info()\n"
   ]
  },
  {
   "cell_type": "code",
   "execution_count": 34,
   "id": "09e91144-01fc-45c0-a536-063045f7df03",
   "metadata": {},
   "outputs": [
    {
     "data": {
      "text/html": [
       "<div>\n",
       "<style scoped>\n",
       "    .dataframe tbody tr th:only-of-type {\n",
       "        vertical-align: middle;\n",
       "    }\n",
       "\n",
       "    .dataframe tbody tr th {\n",
       "        vertical-align: top;\n",
       "    }\n",
       "\n",
       "    .dataframe thead th {\n",
       "        text-align: right;\n",
       "    }\n",
       "</style>\n",
       "<table border=\"1\" class=\"dataframe\">\n",
       "  <thead>\n",
       "    <tr style=\"text-align: right;\">\n",
       "      <th></th>\n",
       "      <th>Topic</th>\n",
       "      <th>Count</th>\n",
       "      <th>Name</th>\n",
       "      <th>Representation</th>\n",
       "      <th>Representative_Docs</th>\n",
       "    </tr>\n",
       "  </thead>\n",
       "  <tbody>\n",
       "    <tr>\n",
       "      <th>0</th>\n",
       "      <td>-1</td>\n",
       "      <td>6841</td>\n",
       "      <td>-1_to_the_of_and</td>\n",
       "      <td>[to, the, of, and, is, for, you, in, it, that]</td>\n",
       "      <td>[Brian Kendig first states:\\n\\n\\nI ask:\\n\\n\\nB...</td>\n",
       "    </tr>\n",
       "    <tr>\n",
       "      <th>1</th>\n",
       "      <td>0</td>\n",
       "      <td>1832</td>\n",
       "      <td>0_game_team_games_he</td>\n",
       "      <td>[game, team, games, he, players, season, hocke...</td>\n",
       "      <td>[\\n\\n\"Deeply rooted rivalry?\" Ahem, Jokerit ha...</td>\n",
       "    </tr>\n",
       "    <tr>\n",
       "      <th>2</th>\n",
       "      <td>1</td>\n",
       "      <td>577</td>\n",
       "      <td>1_key_clipper_chip_encryption</td>\n",
       "      <td>[key, clipper, chip, encryption, keys, escrow,...</td>\n",
       "      <td>[\\nI am not an expert in the cryptography scie...</td>\n",
       "    </tr>\n",
       "    <tr>\n",
       "      <th>3</th>\n",
       "      <td>2</td>\n",
       "      <td>526</td>\n",
       "      <td>2_ites_cheek_yep_huh</td>\n",
       "      <td>[ites, cheek, yep, huh, ken, forget, why, lets...</td>\n",
       "      <td>[Ken\\n, \\n \\n                                 ...</td>\n",
       "    </tr>\n",
       "    <tr>\n",
       "      <th>4</th>\n",
       "      <td>3</td>\n",
       "      <td>473</td>\n",
       "      <td>3_israel_israeli_jews_arab</td>\n",
       "      <td>[israel, israeli, jews, arab, jewish, arabs, p...</td>\n",
       "      <td>[From: Center for Policy Research &lt;cpr&gt;\\nSubje...</td>\n",
       "    </tr>\n",
       "    <tr>\n",
       "      <th>...</th>\n",
       "      <td>...</td>\n",
       "      <td>...</td>\n",
       "      <td>...</td>\n",
       "      <td>...</td>\n",
       "      <td>...</td>\n",
       "    </tr>\n",
       "    <tr>\n",
       "      <th>207</th>\n",
       "      <td>206</td>\n",
       "      <td>12</td>\n",
       "      <td>206_life_you_kendigianism_your</td>\n",
       "      <td>[life, you, kendigianism, your, my, master, do...</td>\n",
       "      <td>[= In article &lt;1993Apr21.231552.24869@organpip...</td>\n",
       "    </tr>\n",
       "    <tr>\n",
       "      <th>208</th>\n",
       "      <td>207</td>\n",
       "      <td>11</td>\n",
       "      <td>207_dock_apple_macs_duo</td>\n",
       "      <td>[dock, apple, macs, duo, cpu, powerpc, rockets...</td>\n",
       "      <td>[\\n   &gt;&gt;The info I am about to give is not a r...</td>\n",
       "    </tr>\n",
       "    <tr>\n",
       "      <th>209</th>\n",
       "      <td>208</td>\n",
       "      <td>11</td>\n",
       "      <td>208_professors_university_teaching_phds</td>\n",
       "      <td>[professors, university, teaching, phds, tas, ...</td>\n",
       "      <td>[speaking of the sick bastard, i noticed he at...</td>\n",
       "    </tr>\n",
       "    <tr>\n",
       "      <th>210</th>\n",
       "      <td>209</td>\n",
       "      <td>11</td>\n",
       "      <td>209_ear_hearing_wax_ears</td>\n",
       "      <td>[ear, hearing, wax, ears, syringe, widex, vida...</td>\n",
       "      <td>[\\nVida&gt; Can one develop inner-ear problems fr...</td>\n",
       "    </tr>\n",
       "    <tr>\n",
       "      <th>211</th>\n",
       "      <td>210</td>\n",
       "      <td>10</td>\n",
       "      <td>210_memory_shared_server_pixmaps</td>\n",
       "      <td>[memory, shared, server, pixmaps, xputimage, m...</td>\n",
       "      <td>[\\n  There's documentation on how to use the s...</td>\n",
       "    </tr>\n",
       "  </tbody>\n",
       "</table>\n",
       "<p>212 rows × 5 columns</p>\n",
       "</div>"
      ],
      "text/plain": [
       "     Topic  Count                                     Name  \\\n",
       "0       -1   6841                         -1_to_the_of_and   \n",
       "1        0   1832                     0_game_team_games_he   \n",
       "2        1    577            1_key_clipper_chip_encryption   \n",
       "3        2    526                     2_ites_cheek_yep_huh   \n",
       "4        3    473               3_israel_israeli_jews_arab   \n",
       "..     ...    ...                                      ...   \n",
       "207    206     12           206_life_you_kendigianism_your   \n",
       "208    207     11                  207_dock_apple_macs_duo   \n",
       "209    208     11  208_professors_university_teaching_phds   \n",
       "210    209     11                 209_ear_hearing_wax_ears   \n",
       "211    210     10         210_memory_shared_server_pixmaps   \n",
       "\n",
       "                                        Representation  \\\n",
       "0       [to, the, of, and, is, for, you, in, it, that]   \n",
       "1    [game, team, games, he, players, season, hocke...   \n",
       "2    [key, clipper, chip, encryption, keys, escrow,...   \n",
       "3    [ites, cheek, yep, huh, ken, forget, why, lets...   \n",
       "4    [israel, israeli, jews, arab, jewish, arabs, p...   \n",
       "..                                                 ...   \n",
       "207  [life, you, kendigianism, your, my, master, do...   \n",
       "208  [dock, apple, macs, duo, cpu, powerpc, rockets...   \n",
       "209  [professors, university, teaching, phds, tas, ...   \n",
       "210  [ear, hearing, wax, ears, syringe, widex, vida...   \n",
       "211  [memory, shared, server, pixmaps, xputimage, m...   \n",
       "\n",
       "                                   Representative_Docs  \n",
       "0    [Brian Kendig first states:\\n\\n\\nI ask:\\n\\n\\nB...  \n",
       "1    [\\n\\n\"Deeply rooted rivalry?\" Ahem, Jokerit ha...  \n",
       "2    [\\nI am not an expert in the cryptography scie...  \n",
       "3    [Ken\\n, \\n \\n                                 ...  \n",
       "4    [From: Center for Policy Research <cpr>\\nSubje...  \n",
       "..                                                 ...  \n",
       "207  [= In article <1993Apr21.231552.24869@organpip...  \n",
       "208  [\\n   >>The info I am about to give is not a r...  \n",
       "209  [speaking of the sick bastard, i noticed he at...  \n",
       "210  [\\nVida> Can one develop inner-ear problems fr...  \n",
       "211  [\\n  There's documentation on how to use the s...  \n",
       "\n",
       "[212 rows x 5 columns]"
      ]
     },
     "execution_count": 34,
     "metadata": {},
     "output_type": "execute_result"
    }
   ],
   "source": [
    "topics_info"
   ]
  },
  {
   "cell_type": "code",
   "execution_count": 42,
   "id": "62c04b92-b77c-42aa-ba2c-dcf98101cd58",
   "metadata": {},
   "outputs": [
    {
     "data": {
      "text/plain": [
       "array([False,  True])"
      ]
     },
     "execution_count": 42,
     "metadata": {},
     "output_type": "execute_result"
    }
   ],
   "source": [
    "topic_model.get_document_info(df['data'])['Representative_document'].unique()"
   ]
  },
  {
   "cell_type": "code",
   "execution_count": 37,
   "id": "b59ec565-4903-4b20-a7e3-ad0547c1d993",
   "metadata": {},
   "outputs": [
    {
     "data": {
      "text/plain": [
       "('Well, I just got my Centris 610 yesterday.  It took just over two \\nweeks from placing the order.  The dealer (Rutgers computer store) \\nappologized because Apple made a substitution on my order.  I ordered\\nthe one without ethernet, but they substituted one _with_ ethernet.\\nHe wanted to know if that would be \"alright with me\"!!!  They must\\nbe backlogged on Centri w/out ethernet so they\\'re just shipping them\\nwith!  \\n\\n\\tAnyway, I\\'m very happy with the 610 with a few exceptions.  \\nBeing nosy, I decided to open it up _before_ powering it on for the first\\ntime.  The SCSI cable to the hard drive was only partially connected\\n(must have come loose in shipping).  No big deal, but I would have been\\npissed if I tried to boot it and it wouldn\\'t come up!\\n\\tThe hard drive also has an annoying high pitched whine.  I\\'ve\\nheard apple will exchange it if you complain, so I might try to get\\nit swapped.\\n\\tI am also dissappionted by the lack of soft power-on/off.  This\\nwasn\\'t mentioned in any of the literature I saw.  Also, the location\\nof the reset/interupt buttons is awful.  Having keyboard control for\\nthese functions was much more convenient.\\n\\tOh, and the screen seems tojump in a wierd way on power-up.\\nI\\'ve seen this mentioned by others, so it must be a...feature...\\n\\tAnyway, above all, it\\'s fast.  A great machine at a great price!',\n",
       " ['mhz',\n",
       "  'clock',\n",
       "  'cpu',\n",
       "  'fpu',\n",
       "  'operational',\n",
       "  'oscillator',\n",
       "  'sink',\n",
       "  'centris',\n",
       "  'heat',\n",
       "  '25'])"
      ]
     },
     "execution_count": 37,
     "metadata": {},
     "output_type": "execute_result"
    }
   ],
   "source": [
    "topic_model.get_document_info(df['data']).iloc[1]['Document'], topic_model.get_document_info(df['data']).iloc[1]['Representation']"
   ]
  },
  {
   "cell_type": "code",
   "execution_count": 225,
   "id": "79cb1862-4411-4064-9fe6-5f1d5a0c43ef",
   "metadata": {},
   "outputs": [
    {
     "data": {
      "text/html": [
       "<div>\n",
       "<style scoped>\n",
       "    .dataframe tbody tr th:only-of-type {\n",
       "        vertical-align: middle;\n",
       "    }\n",
       "\n",
       "    .dataframe tbody tr th {\n",
       "        vertical-align: top;\n",
       "    }\n",
       "\n",
       "    .dataframe thead th {\n",
       "        text-align: right;\n",
       "    }\n",
       "</style>\n",
       "<table border=\"1\" class=\"dataframe\">\n",
       "  <thead>\n",
       "    <tr style=\"text-align: right;\">\n",
       "      <th></th>\n",
       "      <th>Document</th>\n",
       "      <th>Representation</th>\n",
       "      <th>Topic</th>\n",
       "    </tr>\n",
       "  </thead>\n",
       "  <tbody>\n",
       "    <tr>\n",
       "      <th>0</th>\n",
       "      <td>\\nmorgan and guzman will have era's 1 run high...</td>\n",
       "      <td>[game, team, games, he, players, season, hocke...</td>\n",
       "      <td>0</td>\n",
       "    </tr>\n",
       "    <tr>\n",
       "      <th>1</th>\n",
       "      <td>Well, I just got my Centris 610 yesterday.  It...</td>\n",
       "      <td>[mhz, clock, speed, fpu, cpu, 040, bus, operat...</td>\n",
       "      <td>11</td>\n",
       "    </tr>\n",
       "    <tr>\n",
       "      <th>2</th>\n",
       "      <td>Archive-name: cryptography-faq/part10\\nLast-mo...</td>\n",
       "      <td>[key, des, ripem, cipher, ciphers, cryptograph...</td>\n",
       "      <td>88</td>\n",
       "    </tr>\n",
       "    <tr>\n",
       "      <th>3</th>\n",
       "      <td>To the best of my knowledge there aren't any p...</td>\n",
       "      <td>[drive, scsi, drives, ide, disk, controller, h...</td>\n",
       "      <td>4</td>\n",
       "    </tr>\n",
       "    <tr>\n",
       "      <th>4</th>\n",
       "      <td>\\n\\nI think that domestication will change beh...</td>\n",
       "      <td>[moral, morality, objective, immoral, hudson, ...</td>\n",
       "      <td>16</td>\n",
       "    </tr>\n",
       "    <tr>\n",
       "      <th>...</th>\n",
       "      <td>...</td>\n",
       "      <td>...</td>\n",
       "      <td>...</td>\n",
       "    </tr>\n",
       "    <tr>\n",
       "      <th>18841</th>\n",
       "      <td>\\nWhy are circuit boards green?  The material ...</td>\n",
       "      <td>[boards, solder, green, mask, board, leds, blu...</td>\n",
       "      <td>176</td>\n",
       "    </tr>\n",
       "    <tr>\n",
       "      <th>18842</th>\n",
       "      <td>\\n\\nAnybody who drove into somebody like that ...</td>\n",
       "      <td>[lane, car, behind, bike, mph, lanes, mirrors,...</td>\n",
       "      <td>71</td>\n",
       "    </tr>\n",
       "    <tr>\n",
       "      <th>18843</th>\n",
       "      <td>We were told that the resolution on the 5FGe c...</td>\n",
       "      <td>[to, the, of, and, is, for, you, in, it, that]</td>\n",
       "      <td>-1</td>\n",
       "    </tr>\n",
       "    <tr>\n",
       "      <th>18844</th>\n",
       "      <td>CAD Setup For Sale:\\n\\nG486PLB Local Bus Mothe...</td>\n",
       "      <td>[to, the, of, and, is, for, you, in, it, that]</td>\n",
       "      <td>-1</td>\n",
       "    </tr>\n",
       "    <tr>\n",
       "      <th>18845</th>\n",
       "      <td>\\n\\n \\nSame engine, different state of tune (l...</td>\n",
       "      <td>[to, the, of, and, is, for, you, in, it, that]</td>\n",
       "      <td>-1</td>\n",
       "    </tr>\n",
       "  </tbody>\n",
       "</table>\n",
       "<p>18846 rows × 3 columns</p>\n",
       "</div>"
      ],
      "text/plain": [
       "                                                Document  \\\n",
       "0      \\nmorgan and guzman will have era's 1 run high...   \n",
       "1      Well, I just got my Centris 610 yesterday.  It...   \n",
       "2      Archive-name: cryptography-faq/part10\\nLast-mo...   \n",
       "3      To the best of my knowledge there aren't any p...   \n",
       "4      \\n\\nI think that domestication will change beh...   \n",
       "...                                                  ...   \n",
       "18841  \\nWhy are circuit boards green?  The material ...   \n",
       "18842  \\n\\nAnybody who drove into somebody like that ...   \n",
       "18843  We were told that the resolution on the 5FGe c...   \n",
       "18844  CAD Setup For Sale:\\n\\nG486PLB Local Bus Mothe...   \n",
       "18845  \\n\\n \\nSame engine, different state of tune (l...   \n",
       "\n",
       "                                          Representation  Topic  \n",
       "0      [game, team, games, he, players, season, hocke...      0  \n",
       "1      [mhz, clock, speed, fpu, cpu, 040, bus, operat...     11  \n",
       "2      [key, des, ripem, cipher, ciphers, cryptograph...     88  \n",
       "3      [drive, scsi, drives, ide, disk, controller, h...      4  \n",
       "4      [moral, morality, objective, immoral, hudson, ...     16  \n",
       "...                                                  ...    ...  \n",
       "18841  [boards, solder, green, mask, board, leds, blu...    176  \n",
       "18842  [lane, car, behind, bike, mph, lanes, mirrors,...     71  \n",
       "18843     [to, the, of, and, is, for, you, in, it, that]     -1  \n",
       "18844     [to, the, of, and, is, for, you, in, it, that]     -1  \n",
       "18845     [to, the, of, and, is, for, you, in, it, that]     -1  \n",
       "\n",
       "[18846 rows x 3 columns]"
      ]
     },
     "execution_count": 225,
     "metadata": {},
     "output_type": "execute_result"
    }
   ],
   "source": [
    "topic_model.get_document_info(df['data'])[['Document','Representation','Topic']]"
   ]
  },
  {
   "cell_type": "markdown",
   "id": "27adef4c-e108-4e46-bf97-30ad9f60ec9b",
   "metadata": {},
   "source": [
    "<h2>Evaluate topics generated by BERT topic with LLM Chat GPT</h2>"
   ]
  },
  {
   "cell_type": "code",
   "execution_count": 49,
   "id": "4bc7bc6f-ef1b-435c-9a84-3bbdc2d4eff3",
   "metadata": {},
   "outputs": [
    {
     "name": "stderr",
     "output_type": "stream",
     "text": [
      "USER_AGENT environment variable not set, consider setting it to identify your requests.\n"
     ]
    }
   ],
   "source": [
    "import bs4\n",
    "from langchain import hub\n",
    "from langchain.text_splitter import RecursiveCharacterTextSplitter\n",
    "from langchain_community.document_loaders import WebBaseLoader\n",
    "from langchain_community.vectorstores import Chroma\n",
    "from langchain_core.output_parsers import StrOutputParser\n",
    "from langchain_core.runnables import RunnablePassthrough\n",
    "from langchain_openai import ChatOpenAI, OpenAIEmbeddings"
   ]
  },
  {
   "cell_type": "code",
   "execution_count": 51,
   "id": "b94253cd-5443-4662-95ff-e557cc78999a",
   "metadata": {},
   "outputs": [],
   "source": [
    "LANGSMITH_TRACING=True\n",
    "LANGSMITH_ENDPOINT=\"https://api.smith.langchain.com\"\n",
    "LANGSMITH_API_KEY=\"\"#Use your API key\n",
    "LANGSMITH_PROJECT=\"pr-unnatural-stab-76\"\n",
    "OPENAI_API_KEY = \"\"#Use your API key"
   ]
  },
  {
   "cell_type": "code",
   "execution_count": 53,
   "id": "5fcbf2e2-5c56-4efa-9cb7-b5ee2d9f27dd",
   "metadata": {},
   "outputs": [],
   "source": [
    "import os\n",
    "os.environ['LANGCHAIN_TRACING_V2'] = 'true'\n",
    "os.environ['LANGCHAIN_ENDPOINT'] = LANGSMITH_ENDPOINT\n",
    "os.environ['LANGCHAIN_API_KEY'] = LANGSMITH_API_KEY\n",
    "os.environ['OPENAI_API_KEY'] = OPENAI_API_KEY"
   ]
  },
  {
   "cell_type": "code",
   "execution_count": 55,
   "id": "738e625b-bb21-4a95-887c-465e9278a638",
   "metadata": {},
   "outputs": [],
   "source": [
    "from langchain.prompts import ChatPromptTemplate"
   ]
  },
  {
   "cell_type": "markdown",
   "id": "a0658335-e69a-4397-97a1-56d9c347e8c5",
   "metadata": {},
   "source": [
    "<h3> Each topic has three represenative documents. To cover the issue with max tokens provided only the first represenatative document as the input or context to the LLM</h3>"
   ]
  },
  {
   "cell_type": "code",
   "execution_count": 247,
   "id": "20cca1a1-4dc4-4765-87f4-f9d0d3e72737",
   "metadata": {},
   "outputs": [
    {
     "name": "stdout",
     "output_type": "stream",
     "text": [
      "Skipping Topic  99 Error code: 400 - {'error': {'message': \"This model's maximum context length is 16385 tokens. However, your messages resulted in 17339 tokens. Please reduce the length of the messages.\", 'type': 'invalid_request_error', 'param': 'messages', 'code': 'context_length_exceeded'}}\n",
      "Skipping Topic  116 Error code: 400 - {'error': {'message': \"This model's maximum context length is 16385 tokens. However, your messages resulted in 43329 tokens. Please reduce the length of the messages.\", 'type': 'invalid_request_error', 'param': 'messages', 'code': 'context_length_exceeded'}}\n"
     ]
    }
   ],
   "source": [
    "\n",
    "\n",
    "# Final call to llm with the actual query and the new document set\n",
    "\n",
    "template = \"\"\"I have topic that contains the following documents: \\n{documents}\n",
    "The topic is described by the following keywords: {keywords}\n",
    "\n",
    "Please rate how related the following key words are to each other and to the documents on a scale from 1 to 3 (1 = not very related, 2 = moderately\n",
    "related, 3 = very related). Reply with only a single number, indicating the overall appropriateness of the key words, document and topic\n",
    "\"\"\"\n",
    "prompt = ChatPromptTemplate.from_template(template)\n",
    "\n",
    "for index,row in topics_info.iterrows():\n",
    "    documents = row['Representative_Docs'][0]\n",
    "    keywords = row['Representation']\n",
    "    chain = ( prompt | ChatOpenAI(temperature = 0)| StrOutputParser())\n",
    "    try:\n",
    "        cv[index] = (int(chain.invoke({\"documents\": documents, \"keywords\": keywords})))\n",
    "    \n",
    "    except Exception as e:\n",
    "        print(\"Skipping Topic \",index,e)\n",
    "        cv[index] =0\n",
    "        continue\n",
    "  "
   ]
  },
  {
   "cell_type": "code",
   "execution_count": 277,
   "id": "08e78dda-0793-49f7-99e5-da479edf2299",
   "metadata": {},
   "outputs": [
    {
     "data": {
      "text/plain": [
       "2.6745283018867925"
      ]
     },
     "execution_count": 277,
     "metadata": {},
     "output_type": "execute_result"
    }
   ],
   "source": [
    "sum([i for i in cv.values()])/len([i for i in cv.values()])"
   ]
  },
  {
   "cell_type": "markdown",
   "id": "5536d20b-dcd8-4276-b13b-b007be721dad",
   "metadata": {},
   "source": [
    "<h2>Using Langchain to invoke Open AI to produce themes, by passing the document along with the keywords or topic words identified by bert model</h2>"
   ]
  },
  {
   "cell_type": "code",
   "execution_count": 59,
   "id": "fd3a286e-fa4c-4ccf-87ee-3b6f5939b15b",
   "metadata": {},
   "outputs": [],
   "source": [
    "# Calling the above using a list of documents\n",
    "from langchain.load import dumps, loads\n"
   ]
  },
  {
   "cell_type": "code",
   "execution_count": 61,
   "id": "5fe3dc49-f417-4fd5-885b-ee4530908b30",
   "metadata": {},
   "outputs": [],
   "source": [
    "docs = [topic_model.get_document_info(df['data']).iloc[i]['Document'] for i in range(5)]\n",
    "keywords =  [topic_model.get_document_info(df['data']).iloc[i]['Representation'] for i in range(5)]"
   ]
  },
  {
   "cell_type": "code",
   "execution_count": 63,
   "id": "1f36788c-1678-43bf-b9fe-a28348be34ac",
   "metadata": {},
   "outputs": [],
   "source": [
    "documents = list(set(docs))\n",
    "keywords = list(set(docs))"
   ]
  },
  {
   "cell_type": "code",
   "execution_count": 98,
   "id": "df29c370-cc4b-42de-ad7a-a596e786f008",
   "metadata": {},
   "outputs": [
    {
     "data": {
      "text/plain": [
       "'1. Domestication and behavior change in animals\\n2. Cryptography and encryption methods\\n3. Technical issues with SCSI transfers\\n4. Baseball predictions and player performance\\n5. Review and experience with the Centris 610 computer'"
      ]
     },
     "execution_count": 98,
     "metadata": {},
     "output_type": "execute_result"
    }
   ],
   "source": [
    "\n",
    "\n",
    "# Final call to llm with the actual query and the new document set\n",
    "\n",
    "template = \"\"\"I have topic that contains the following documents: \\n{documents}\n",
    "The topic is described by the following keywords: {keywords}\n",
    "\n",
    "Based on the above information, can you give multiple theme for the topic?\n",
    "\"\"\"\n",
    "prompt = ChatPromptTemplate.from_template(template)\n",
    "\n",
    "chain = ( prompt | ChatOpenAI(temperature = 0)| StrOutputParser())\n",
    "chain.invoke({\"documents\": documents, \n",
    "     \"keywords\": keywords})"
   ]
  },
  {
   "cell_type": "code",
   "execution_count": null,
   "id": "e57f250f-f39a-4514-9f56-597398ff7c85",
   "metadata": {},
   "outputs": [],
   "source": []
  }
 ],
 "metadata": {
  "kernelspec": {
   "display_name": "Python [conda env:base] *",
   "language": "python",
   "name": "conda-base-py"
  },
  "language_info": {
   "codemirror_mode": {
    "name": "ipython",
    "version": 3
   },
   "file_extension": ".py",
   "mimetype": "text/x-python",
   "name": "python",
   "nbconvert_exporter": "python",
   "pygments_lexer": "ipython3",
   "version": "3.12.3"
  }
 },
 "nbformat": 4,
 "nbformat_minor": 5
}
